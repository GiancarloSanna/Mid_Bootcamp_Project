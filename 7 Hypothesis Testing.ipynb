{
 "cells": [
  {
   "cell_type": "code",
   "execution_count": 1,
   "id": "dea6aa85",
   "metadata": {},
   "outputs": [],
   "source": [
    "import pandas as pd\n",
    "import numpy as np\n",
    "import time\n",
    "from datetime import date\n",
    "import matplotlib.pyplot as plt\n",
    "import seaborn as sns\n",
    "from scipy.stats import ttest_1samp"
   ]
  },
  {
   "cell_type": "markdown",
   "id": "52a81f5e",
   "metadata": {},
   "source": [
    "#### Importing the dataframe"
   ]
  },
  {
   "cell_type": "code",
   "execution_count": 2,
   "id": "0cc36a6c",
   "metadata": {},
   "outputs": [],
   "source": [
    "df = pd.read_csv(\"Clean Data/expanded_clean.csv\")"
   ]
  },
  {
   "cell_type": "markdown",
   "id": "13033aea",
   "metadata": {},
   "source": [
    "# Hypothesis testing:  T Test"
   ]
  },
  {
   "cell_type": "markdown",
   "id": "b9ffe063",
   "metadata": {},
   "source": [
    "My hypothesis is, allowing online sports betting rises the amount wagered per person by at least 30%.\n",
    "This means:\n",
    "\n",
    "Null Hypothesis\n",
    "H0 : average handle per capita for states with online betting = 1.3 times average handle per capita for states withoutonline betting\n",
    "\n",
    "Alternative Hypothesis: \n",
    "H1 : average handle per capita for states with online betting > 1.3 times average handle per capita for states without online betting\n",
    "\n",
    "This is a one sided test since the hypothesis is  that the population value is equal or higher than our test value.\n",
    "\n",
    "We test for a 95% confidence level, that mean we reject our H0 if our p-value is lower than 0.05."
   ]
  },
  {
   "cell_type": "markdown",
   "id": "92d4b8cd",
   "metadata": {},
   "source": [
    "#### Data"
   ]
  },
  {
   "cell_type": "code",
   "execution_count": 3,
   "id": "b9a85c9d",
   "metadata": {},
   "outputs": [
    {
     "data": {
      "text/plain": [
       "5.375786548196981"
      ]
     },
     "execution_count": 3,
     "metadata": {},
     "output_type": "execute_result"
    }
   ],
   "source": [
    "# First we calculate the mean for the states in which online betting is not allowed\n",
    "mean_no = np.mean(df[df['online'] == 0]['handle_capita'])\n",
    "mean_no"
   ]
  },
  {
   "cell_type": "code",
   "execution_count": 4,
   "id": "5e6d072a",
   "metadata": {},
   "outputs": [],
   "source": [
    "# No we get a list of data points with  the handle per capita for the other states\n",
    "data_yes = list(df[(df['online'] == 1) & (df['handle'] != 0)]['handle_capita'])"
   ]
  },
  {
   "cell_type": "markdown",
   "id": "575bfebd",
   "metadata": {},
   "source": [
    "### Making the Hypothesis Test"
   ]
  },
  {
   "cell_type": "code",
   "execution_count": 5,
   "id": "f360f605",
   "metadata": {},
   "outputs": [],
   "source": [
    "import scipy.stats\n",
    "from scipy.stats import ttest_1samp"
   ]
  },
  {
   "cell_type": "code",
   "execution_count": 6,
   "id": "42e66713",
   "metadata": {},
   "outputs": [],
   "source": [
    "stat, pval = ttest_1samp(data_yes, (mean_no*1.3))"
   ]
  },
  {
   "cell_type": "code",
   "execution_count": 7,
   "id": "05586025",
   "metadata": {},
   "outputs": [
    {
     "name": "stdout",
     "output_type": "stream",
     "text": [
      "5.069847618641556e-65\n",
      "18.773064278669978\n"
     ]
    }
   ],
   "source": [
    "# We check our p value for a one-tailed test\n",
    "print(pval/2)\n",
    "print(stat)"
   ]
  },
  {
   "cell_type": "markdown",
   "id": "de59af1e",
   "metadata": {},
   "source": [
    "### Conclusion\n",
    "The pvalue is very close to zero, so we can revoke the H0, that means the mean with online gambling very likely differs from the mean without online gambling times 1.3.\n",
    "Since the stat is positive we can assume that the actual mean is higher than the assumption in the H0, so our H1 is very likely to be true."
   ]
  },
  {
   "cell_type": "markdown",
   "id": "f91b5be5",
   "metadata": {},
   "source": [
    "# Hypothesis testing:  ANOVA Test"
   ]
  },
  {
   "cell_type": "markdown",
   "id": "542a1ab0",
   "metadata": {},
   "source": [
    "We will group our data into states with low medium and high tax rates and test the assumption, that the tax rate affects handles(per capita). To use the data in our further analysis we will do the grouping in notebook 6 and use the data here."
   ]
  },
  {
   "cell_type": "markdown",
   "id": "0d34b082",
   "metadata": {},
   "source": [
    "### Hypothesis"
   ]
  },
  {
   "cell_type": "markdown",
   "id": "6cb4d709",
   "metadata": {},
   "source": [
    "We assume, that the tax group affects handles."
   ]
  },
  {
   "cell_type": "markdown",
   "id": "c4c3d3f6",
   "metadata": {},
   "source": [
    "H0: handle_capita for 'Low' = handle_capita for 'Medium' = handle_capita for 'High'\n",
    "    \n",
    "H1: handle_capita is not equal for all groups\n",
    "    \n",
    "We again test for a 95% confidence level"
   ]
  },
  {
   "cell_type": "code",
   "execution_count": 8,
   "id": "cdad7652",
   "metadata": {},
   "outputs": [],
   "source": [
    "# First we have to create our groups\n",
    "Low = list(df[df['tax_group'] == 'Low']['handle_capita'])\n",
    "Medium = list(df[df['tax_group'] == 'Medium']['handle_capita'])\n",
    "High = list(df[df['tax_group'] == 'High']['handle_capita'])"
   ]
  },
  {
   "cell_type": "code",
   "execution_count": 9,
   "id": "6c85123e",
   "metadata": {},
   "outputs": [
    {
     "name": "stdout",
     "output_type": "stream",
     "text": [
      "333\n",
      "511\n",
      "191\n"
     ]
    }
   ],
   "source": [
    "# Now we have a problem, the groups have to be of the same length!\n",
    "print(len(Low))\n",
    "print(len(Medium))\n",
    "print(len(High))"
   ]
  },
  {
   "cell_type": "code",
   "execution_count": 10,
   "id": "6e967d62",
   "metadata": {},
   "outputs": [],
   "source": [
    "# We will take a sample of 150 values for each group\n",
    "import random"
   ]
  },
  {
   "cell_type": "code",
   "execution_count": 11,
   "id": "c322dff6",
   "metadata": {},
   "outputs": [],
   "source": [
    "Low = random.sample(Low, 100)\n",
    "Medium = random.sample(Medium, 100)\n",
    "High = random.sample(High, 100)"
   ]
  },
  {
   "cell_type": "code",
   "execution_count": 12,
   "id": "16a8e5d7",
   "metadata": {},
   "outputs": [],
   "source": [
    "# No we can execute the ANOVA Test\n",
    "from scipy.stats import f_oneway"
   ]
  },
  {
   "cell_type": "code",
   "execution_count": 13,
   "id": "f8493e2d",
   "metadata": {},
   "outputs": [],
   "source": [
    "stat, pvalue = f_oneway(Low, Medium, High)"
   ]
  },
  {
   "cell_type": "markdown",
   "id": "9f3bd09c",
   "metadata": {},
   "source": [
    "#### Result"
   ]
  },
  {
   "cell_type": "code",
   "execution_count": 14,
   "id": "9234b58f",
   "metadata": {},
   "outputs": [
    {
     "name": "stdout",
     "output_type": "stream",
     "text": [
      "5.5216017358426805\n",
      "0.004420847125742754\n"
     ]
    }
   ],
   "source": [
    "print(stat)\n",
    "print(pvalue)"
   ]
  },
  {
   "cell_type": "markdown",
   "id": "50e6cf87",
   "metadata": {},
   "source": [
    "Our p value is very close to 0, that means, that we can reject the H0.\n",
    "Therefore H1 seems very lilely to be true. In simpler terms: We can assume that the tax group influences the amount wagered per capita."
   ]
  },
  {
   "cell_type": "markdown",
   "id": "52835896",
   "metadata": {},
   "source": [
    "# Saving the new dataframe"
   ]
  },
  {
   "cell_type": "code",
   "execution_count": 15,
   "id": "5ef784cc",
   "metadata": {},
   "outputs": [],
   "source": [
    "# As csv\n",
    "df.to_csv('Clean Data/intermediate.csv', index=False)"
   ]
  },
  {
   "cell_type": "code",
   "execution_count": null,
   "id": "244fa584",
   "metadata": {},
   "outputs": [],
   "source": []
  }
 ],
 "metadata": {
  "kernelspec": {
   "display_name": "Python 3 (ipykernel)",
   "language": "python",
   "name": "python3"
  },
  "language_info": {
   "codemirror_mode": {
    "name": "ipython",
    "version": 3
   },
   "file_extension": ".py",
   "mimetype": "text/x-python",
   "name": "python",
   "nbconvert_exporter": "python",
   "pygments_lexer": "ipython3",
   "version": "3.9.13"
  }
 },
 "nbformat": 4,
 "nbformat_minor": 5
}

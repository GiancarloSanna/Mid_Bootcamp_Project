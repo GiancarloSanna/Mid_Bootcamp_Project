{
 "cells": [
  {
   "cell_type": "markdown",
   "id": "a933a5de",
   "metadata": {},
   "source": [
    "# This notebook contains additional calculaions"
   ]
  },
  {
   "cell_type": "markdown",
   "id": "c08f5d5c",
   "metadata": {},
   "source": [
    "Depending on what I might later on need for my presentation, I will put them in here, to be able to add data without impairing the readability of the previous notebooks"
   ]
  },
  {
   "cell_type": "code",
   "execution_count": 1,
   "id": "bef18a52",
   "metadata": {},
   "outputs": [],
   "source": [
    "import pandas as pd\n",
    "import numpy as np\n",
    "import time\n",
    "from datetime import date\n",
    "import matplotlib.pyplot as plt\n",
    "import seaborn as sns"
   ]
  },
  {
   "cell_type": "markdown",
   "id": "01cdb07d",
   "metadata": {},
   "source": [
    "# Importing the data"
   ]
  },
  {
   "cell_type": "code",
   "execution_count": 2,
   "id": "a2e976a6",
   "metadata": {},
   "outputs": [],
   "source": [
    "df = pd.read_csv(\"Clean Data/intermediate.csv\")"
   ]
  },
  {
   "cell_type": "markdown",
   "id": "19cae893",
   "metadata": {},
   "source": [
    "# Saving the final dataframe"
   ]
  },
  {
   "cell_type": "code",
   "execution_count": 3,
   "id": "b7830c28",
   "metadata": {},
   "outputs": [],
   "source": [
    "# As csv\n",
    "df.to_csv('Clean Data/final.csv', index=False)"
   ]
  },
  {
   "cell_type": "code",
   "execution_count": null,
   "id": "4dd1305e",
   "metadata": {},
   "outputs": [],
   "source": []
  }
 ],
 "metadata": {
  "kernelspec": {
   "display_name": "Python 3 (ipykernel)",
   "language": "python",
   "name": "python3"
  },
  "language_info": {
   "codemirror_mode": {
    "name": "ipython",
    "version": 3
   },
   "file_extension": ".py",
   "mimetype": "text/x-python",
   "name": "python",
   "nbconvert_exporter": "python",
   "pygments_lexer": "ipython3",
   "version": "3.9.13"
  }
 },
 "nbformat": 4,
 "nbformat_minor": 5
}
